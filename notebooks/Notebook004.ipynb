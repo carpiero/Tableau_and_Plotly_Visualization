{
 "cells": [
  {
   "cell_type": "code",
   "execution_count": 55,
   "metadata": {},
   "outputs": [],
   "source": [
    "import pandas as pd\n",
    "import numpy as np\n",
    "from scipy.stats import ttest_1samp\n",
    "from scipy import stats\n",
    "from scipy.stats import t\n",
    "from scipy.stats import ttest_rel, ttest_1samp, ttest_ind\n",
    "\n",
    "\n",
    "df=pd.read_csv(f'../data/processed/df003.csv')\n",
    "\n",
    "\n"
   ]
  },
  {
   "cell_type": "markdown",
   "metadata": {},
   "source": [
    "\n",
    "***\n",
    "\n",
    "### Test 1 - one sample vs constant hypothesis test.\n",
    "\n",
    "***\n",
    "\n",
    "We know from the available literature that diamonds average price rounds about 4000 USD. The aim is to test whether the prices in our sample are significantly different from the literature value.\n",
    "\n",
    "__Insights:__\n",
    "\n",
    "`T.Statistic`\n",
    "\n",
    "-3.604902369125729\n",
    "\n",
    "`pvalue`\n",
    "\n",
    "0.00031264532833074845\n",
    "\n",
    "\n",
    "\n",
    "* The prices in our sample are significantly different from the literature value. Our sample mean is 3928.444469163268\n"
   ]
  },
  {
   "cell_type": "code",
   "execution_count": 56,
   "metadata": {},
   "outputs": [
    {
     "data": {
      "text/plain": [
       "Ttest_1sampResult(statistic=-3.604902369125729, pvalue=0.00031264532833074845)"
      ]
     },
     "metadata": {},
     "output_type": "display_data"
    },
    {
     "data": {
      "text/plain": [
       "3928.444469163268"
      ]
     },
     "metadata": {},
     "output_type": "display_data"
    }
   ],
   "source": [
    "# the prices in our sample are significantly different from the literature value.\n",
    "# Version \n",
    "\n",
    "display(ttest_1samp(df['price'],4000))\n",
    "display(df['price'].mean())\n"
   ]
  },
  {
   "cell_type": "code",
   "execution_count": 57,
   "metadata": {},
   "outputs": [],
   "source": [
    "# Version 02 \n",
    "\n",
    "mu = 4000\n",
    "mu_hat = df['price'].mean()\n",
    "std_hat = np.std(df['price'])\n",
    "n = df['price'].shape[0]\n",
    "\n",
    "t_test = (mu_hat - mu) / (std_hat / np.sqrt(n))\n",
    "rv = t(df=n-1)\n",
    "p_value = rv.cdf(t_test) *2 "
   ]
  },
  {
   "cell_type": "code",
   "execution_count": 58,
   "metadata": {},
   "outputs": [
    {
     "data": {
      "text/plain": [
       "0.0003125917132264022"
      ]
     },
     "execution_count": 58,
     "metadata": {},
     "output_type": "execute_result"
    }
   ],
   "source": [
    "p_value"
   ]
  },
  {
   "cell_type": "markdown",
   "metadata": {},
   "source": [
    "***\n",
    "\n",
    "### Test 2 - two independent samples.\n",
    "\n",
    "***\n",
    "\n",
    "Premium cut + color D vs. Premium cut + color E\n",
    "\n",
    "__Insights:__\n",
    "\n",
    "`T.Statistic`\n",
    "\n",
    "0.4238712765446736\n",
    "\n",
    "`pvalue`\n",
    "\n",
    "0.6716959865958436\n",
    "\n",
    "\n",
    "* The prices in two samples are not significantly different in Price. "
   ]
  },
  {
   "cell_type": "code",
   "execution_count": 63,
   "metadata": {},
   "outputs": [],
   "source": [
    "#Sub-Test 4: Premium cut + color D vs. Premium cut + color E\n",
    "\n",
    "Sample_premium_D=df.loc[(df['cut']=='Premium') & (df['color']=='D'),'price']\n",
    "Sample_premium_E=df.loc[(df['cut']=='Premium') & (df['color']=='E'),'price']\n"
   ]
  },
  {
   "cell_type": "code",
   "execution_count": 64,
   "metadata": {},
   "outputs": [
    {
     "data": {
      "text/plain": [
       "Ttest_indResult(statistic=0.4238712765446736, pvalue=0.6716959865958436)"
      ]
     },
     "execution_count": 64,
     "metadata": {},
     "output_type": "execute_result"
    }
   ],
   "source": [
    "ttest_ind(Sample_premium_D, Sample_premium_E, equal_var=False)"
   ]
  },
  {
   "cell_type": "code",
   "execution_count": null,
   "metadata": {},
   "outputs": [],
   "source": []
  }
 ],
 "metadata": {
  "kernelspec": {
   "display_name": "Python [conda env:iron]",
   "language": "python",
   "name": "conda-env-iron-py"
  },
  "language_info": {
   "codemirror_mode": {
    "name": "ipython",
    "version": 3
   },
   "file_extension": ".py",
   "mimetype": "text/x-python",
   "name": "python",
   "nbconvert_exporter": "python",
   "pygments_lexer": "ipython3",
   "version": "3.7.7"
  }
 },
 "nbformat": 4,
 "nbformat_minor": 4
}
