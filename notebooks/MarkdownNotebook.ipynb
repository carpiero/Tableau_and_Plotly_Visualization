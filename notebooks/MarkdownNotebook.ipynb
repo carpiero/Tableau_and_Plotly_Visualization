{
 "cells": [
  {
   "cell_type": "markdown",
   "metadata": {},
   "source": [
    "# data\n",
    "## data\n",
    "### data\n",
    "#### data\n",
    "##### data\n",
    "- scheme:\n",
    "\n",
    "__GET:__ \n",
    "\n",
    "Hola que tal estamos aqui explicando el proyecto\n",
    "\n",
    "\n",
    "\n",
    "\n",
    "* This is a bullet list\n",
    "* This is a bullet list\n",
    "* This is a bullet list\n",
    "\n",
    "\n",
    "1. And you can also create ordered lists\n",
    "2. by using numbers\n",
    "3. and listing new items in the lists \n",
    "4. on their own lines\n",
    "\n",
    "\n",
    "*These are italicized words, not a bullet list*\n",
    "\n",
    "**These are bold words, not a bullet list**\n",
    "\n",
    "* **This is a bullet item with bold words**\n",
    "* *This is a bullet item with italicized words*\n",
    "\n",
    "`Here is some code!`\n",
    "\n",
    "```python\n",
    "\n",
    "cool = True\n",
    "\n",
    "cool_string = f'I am a {cool} string'\n",
    "dirty_string = 'I am a dirty and' + ' unefficient string'\n",
    "\n",
    "```\n",
    "\n",
    "***\n",
    "\n",
    "Here is some important text!\n",
    "\n",
    "***\n",
    "\n",
    "<a href=\"url\" target=\"_blank\">hyperlinkedasdasdasd @@@@@@@@@@@@@@@ words</a>\n",
    "\n",
    "\n"
   ]
  },
  {
   "cell_type": "code",
   "execution_count": null,
   "metadata": {},
   "outputs": [],
   "source": []
  }
 ],
 "metadata": {
  "kernelspec": {
   "display_name": "Python [conda env:iron]",
   "language": "python",
   "name": "conda-env-iron-py"
  },
  "language_info": {
   "codemirror_mode": {
    "name": "ipython",
    "version": 3
   },
   "file_extension": ".py",
   "mimetype": "text/x-python",
   "name": "python",
   "nbconvert_exporter": "python",
   "pygments_lexer": "ipython3",
   "version": "3.7.7"
  }
 },
 "nbformat": 4,
 "nbformat_minor": 4
}
